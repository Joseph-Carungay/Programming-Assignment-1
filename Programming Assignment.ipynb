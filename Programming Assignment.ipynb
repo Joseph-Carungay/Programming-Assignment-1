{
 "cells": [
  {
   "cell_type": "code",
   "execution_count": null,
   "id": "e19d8d84-80ca-4069-8ade-7d4f04d3b5a3",
   "metadata": {},
   "outputs": [],
   "source": [
    "#PROGRAMMING ASSIGNMENT #1"
   ]
  },
  {
   "cell_type": "code",
   "execution_count": null,
   "id": "80f056c8-fb3e-4e51-b271-87691d52e9e7",
   "metadata": {},
   "outputs": [],
   "source": [
    "#1 ALPHABET SOUP PROBLEM"
   ]
  },
  {
   "cell_type": "code",
   "execution_count": 4,
   "id": "cb289eba-faa4-4ebc-8447-66403c73adba",
   "metadata": {},
   "outputs": [],
   "source": [
    "def sortedletters(text):\n",
    "    sortedword = \"\".join(sorted(text))\n",
    "    print(\"Alphabetical Order:\", sortedword)"
   ]
  },
  {
   "cell_type": "code",
   "execution_count": 5,
   "id": "46d10db9-48b3-4555-a69e-13d2055086ef",
   "metadata": {},
   "outputs": [
    {
     "name": "stdin",
     "output_type": "stream",
     "text": [
      "Enter a word:  hello\n"
     ]
    }
   ],
   "source": [
    "word = input(\"Enter a word: \")"
   ]
  },
  {
   "cell_type": "code",
   "execution_count": 6,
   "id": "4c066f0f-3191-46c3-b4f2-1465a575b29c",
   "metadata": {},
   "outputs": [
    {
     "name": "stdout",
     "output_type": "stream",
     "text": [
      "Alphabetical Order: ehllo\n"
     ]
    }
   ],
   "source": [
    "sortedletters(word)"
   ]
  },
  {
   "cell_type": "code",
   "execution_count": null,
   "id": "6c9bafea-b642-410a-805a-660c19e7e7d9",
   "metadata": {},
   "outputs": [],
   "source": []
  },
  {
   "cell_type": "code",
   "execution_count": 27,
   "id": "9403d6c1-b0cf-44a9-93a8-eaef0b062429",
   "metadata": {},
   "outputs": [],
   "source": [
    "#2 EMOTICON PROBLEM"
   ]
  },
  {
   "cell_type": "code",
   "execution_count": 36,
   "id": "e2408fa9-6a0d-4518-b75e-350a9372f67c",
   "metadata": {},
   "outputs": [],
   "source": [
    "def emoji(word):\n",
    "    word = word.replace(\"smile\", \":)\")\n",
    "    word = word.replace(\"sad\", \":((\")\n",
    "    word = word.replace(\"grin\", \":D\")\n",
    "    word = word.replace(\"mad\", \">:(\")\n",
    "    print(word)"
   ]
  },
  {
   "cell_type": "code",
   "execution_count": 37,
   "id": "e35d55fa-730f-481d-ac9c-ec6dc13bffba",
   "metadata": {},
   "outputs": [
    {
     "name": "stdin",
     "output_type": "stream",
     "text": [
      "Enter a statement:  i smile even though im sad\n"
     ]
    }
   ],
   "source": [
    "text = input(\"Enter a statement: \")"
   ]
  },
  {
   "cell_type": "code",
   "execution_count": 38,
   "id": "4fd45285-84a1-4c74-800d-8394cfdea6aa",
   "metadata": {},
   "outputs": [
    {
     "name": "stdout",
     "output_type": "stream",
     "text": [
      "i :) even though im :((\n"
     ]
    }
   ],
   "source": [
    "emoji(text)"
   ]
  },
  {
   "cell_type": "code",
   "execution_count": null,
   "id": "cde2a1b8-08f2-40ad-bca8-62491a26c69b",
   "metadata": {},
   "outputs": [],
   "source": [
    "\n"
   ]
  },
  {
   "cell_type": "code",
   "execution_count": 39,
   "id": "b14a00f8-12d8-4a19-a0b4-202599f820fd",
   "metadata": {},
   "outputs": [],
   "source": [
    "#3 UNPACKING LIST PROBLEM"
   ]
  },
  {
   "cell_type": "code",
   "execution_count": 22,
   "id": "e6ed322c-16e5-4ede-b010-7ea5994a9c89",
   "metadata": {},
   "outputs": [
    {
     "name": "stdin",
     "output_type": "stream",
     "text": [
      "Enter numbers:  1 2 3 4 5 6 7 8 9 0\n"
     ]
    }
   ],
   "source": [
    "numbers = list(map(int, input(\"Enter numbers: \").split()))"
   ]
  },
  {
   "cell_type": "code",
   "execution_count": 23,
   "id": "2537bd0f-58ce-49b1-873f-23f8707067fb",
   "metadata": {},
   "outputs": [],
   "source": [
    "first = numbers[0]\n",
    "middle = numbers[1:-1]\n",
    "last = numbers[-1]"
   ]
  },
  {
   "cell_type": "code",
   "execution_count": 24,
   "id": "20f46047-1d73-4e63-862d-ff1dd75d91e4",
   "metadata": {},
   "outputs": [
    {
     "name": "stdout",
     "output_type": "stream",
     "text": [
      "First: 1\n",
      "Middle: [2, 3, 4, 5, 6, 7, 8, 9]\n",
      "Last: 0\n"
     ]
    }
   ],
   "source": [
    "print(\"First:\", first)\n",
    "print(\"Middle:\", middle)\n",
    "print(\"Last:\", last)"
   ]
  },
  {
   "cell_type": "markdown",
   "id": "44537d1e-4fc3-419a-a96e-d581238c3b0f",
   "metadata": {},
   "source": []
  }
 ],
 "metadata": {
  "kernelspec": {
   "display_name": "Python 3 (ipykernel)",
   "language": "python",
   "name": "python3"
  },
  "language_info": {
   "codemirror_mode": {
    "name": "ipython",
    "version": 3
   },
   "file_extension": ".py",
   "mimetype": "text/x-python",
   "name": "python",
   "nbconvert_exporter": "python",
   "pygments_lexer": "ipython3",
   "version": "3.13.5"
  }
 },
 "nbformat": 4,
 "nbformat_minor": 5
}
